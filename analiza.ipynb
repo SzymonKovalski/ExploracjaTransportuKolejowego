{
 "cells": [
  {
   "metadata": {},
   "cell_type": "markdown",
   "source": [
    "# Analiza liczby pasażerów transportu kolejowego\n",
    "#### Autorzy: Szymon Kowalski, Zuzanna Czyżowska - zespół 18\n",
    "## 1. Wprowadzenie i cel analizy"
   ],
   "id": "ecc3f76d663c9378"
  },
  {
   "metadata": {},
   "cell_type": "markdown",
   "source": [
    "W tym projekcie zajmiemy się analizą systemów kolejowych w państwach europejskich, w celu określenia czynników wpływających na roczną liczbę pasażerów transportu kolejowego w danym państwie. Korzystając z danych zebranych przez Eurostat w latach 2014-2023 dotyczących m.in. infrastruktury kolejowej, liczby pojazdów kolejowych, sytuacji ekonomicznej w kraju, wielkości inwestycji w transport kolejowy, spróbujemy zdefiniować najistotniejsze cechy, od których zależna jest liczba pasażerów kolei. Następnie na podstawie otrzymanych wyników stworzymy model regresji, mający na celu przewidywanie liczby użytkowników kolei w danym roku w danym kraju.\n",
    "\n",
    "Źródło danych: https://ec.europa.eu/eurostat/databrowser/explore/all/transp?lang=en&subtheme=rail&display=list&sort=category"
   ],
   "id": "b8cac832b52e363d"
  },
  {
   "metadata": {},
   "cell_type": "markdown",
   "source": "## 2. Hipoteza badawcza\n",
   "id": "2727eecd6394664a"
  },
  {
   "metadata": {},
   "cell_type": "markdown",
   "source": "## 3. Załadowanie danych",
   "id": "b45b2100a877948c"
  },
  {
   "metadata": {},
   "cell_type": "markdown",
   "source": "Import potrzebnych bibliotek:",
   "id": "b10694e77913f99b"
  },
  {
   "metadata": {
    "ExecuteTime": {
     "end_time": "2024-12-18T19:10:47.353501Z",
     "start_time": "2024-12-18T19:10:47.351360Z"
    }
   },
   "cell_type": "code",
   "source": [
    "import pandas as pd\n",
    "import numpy as np\n",
    "import matplotlib.pyplot as plt"
   ],
   "id": "b8b6155168f16186",
   "outputs": [],
   "execution_count": 39
  },
  {
   "metadata": {},
   "cell_type": "markdown",
   "source": "Wczytanie i przygotowanie danych:",
   "id": "d1dceaca57c3afc0"
  },
  {
   "metadata": {
    "ExecuteTime": {
     "end_time": "2024-12-18T19:10:49.146961Z",
     "start_time": "2024-12-18T19:10:49.102731Z"
    }
   },
   "cell_type": "code",
   "source": [
    "tables = pd.read_excel('all_data.xlsx', sheet_name='Arkusz1', skiprows=1)\n",
    "tables = tables.dropna(axis=0, how='all')\n",
    "tables = tables.dropna(axis=1, how='all')\n",
    "\n",
    "print(\"Dane:\")\n",
    "print(tables.head())\n",
    "print(\"Rozmiar danych:\")\n",
    "print(tables.shape)"
   ],
   "id": "126dfd8b9c3a09f0",
   "outputs": [
    {
     "name": "stdout",
     "output_type": "stream",
     "text": [
      "Dane:\n",
      "   n  Year                                    Country pa_tr pa_tr_na pa_tr_in  \\\n",
      "0  1  2014  European Union - 27 countries (from 2020)     :        :        :   \n",
      "1  2  2014  European Union - 28 countries (2013-2020)     :        :        :   \n",
      "2  3  2014  European Union - 27 countries (2007-2013)     :        :        :   \n",
      "3  4  2014                                    Belgium     :        :        :   \n",
      "4  5  2014                                   Bulgaria  1698     1683       15   \n",
      "\n",
      "     tr_tr le_ra_tr pa_ra_ve         po gdp_pc    ex_in in_in le_mo  co_pr_le  \\\n",
      "0      NaN        :        :  442266046  25660        :     :     :     100.0   \n",
      "1  3309453        :        :  341548691      :        :     :     :     105.1   \n",
      "2  3294324        :        :  337331059    NaN        :     :     :     105.4   \n",
      "3        :     6250        :   11180840  33790        :     :  1763     111.2   \n",
      "4    20453     6481        :    7117453   5590  387.616     :   610      49.4   \n",
      "\n",
      "  in_ra ca_pa_ra_ve le_hi_sp_ra  \n",
      "0   0.4           :        5859  \n",
      "1   0.4           :           :  \n",
      "2   0.4           :           :  \n",
      "3   0.5           :         211  \n",
      "4  -1.6           :           0  \n",
      "Rozmiar danych:\n",
      "(350, 18)\n"
     ]
    }
   ],
   "execution_count": 40
  },
  {
   "metadata": {},
   "cell_type": "markdown",
   "source": [
    "### Opis zbioru:\n",
    "Każda obserwacja występuje dla danego europejskiego kraju lub wszystkich państw Unii Europejskiej w danym roku (od 2014 do 2023). W zbiorze widać, że jest 18 kolumn:\n",
    "- n - numer obserwacji,\n",
    "- Year - rok obserwacji (dane są zbierane na stan 1 stycznia danego roku)\n",
    "- Country - kraj lub obserwacja ogólnie dla Unii Europejskiej\n",
    "Nasza kolumna-klasa (jednostka):\n",
    "- pa_tr - przewiezieni pasażerowie (mln pasażerokm - miara która określa ile pasażerów przebyło km)\n",
    "Pozostałe kolumny to cechy, któryvh wpływ na nasza klasę będziemy sprawdzać:\n",
    "- pa_tr_na - przewiezieni pasażerowie w transporcie krajowym (mln pasażerokm)\n",
    "- pa_tr_in - przewiezieni pasażerowie w transporcie międzynarodowym (mln pasażerokm)\n",
    "- tr_tr - praca przewozowa pociagów (tys. pociągokm - ile pociągów przebyło 1 km)\n",
    "- le_ra_tr - długość torów kolejowych (km)\n",
    "- pa_ra_ve - liczba pociągów pasażerskich (liczba)\n",
    "- po - populacja kraju (liczba)\n",
    "- gdp_pc - PKB per capita (euro)\n",
    "- ex_in - wydatki na infrastrukturę (mln euro) - utrzymanie, konserwacja, naprawy itp.\n",
    "- in_in - inwestycje w infrastrukturę (mln euro)\n",
    "- le_mo - długość autostrad (km) - jako alternatywa dla kolei\n",
    "- co_pr_le - porównawcze poziomy cen w danym kraju (wskaźnik poziomu cen, UE-27 = 100) - ta cecha ma na celu pokazanie, czy dany kraj jest droższy lub tańszy w porównaniu do średniej unijnej, poniżej 100 - jest tańszy, powyżej 100 - droższy\n",
    "- in_ra - stopa inflacji (HICP - zharmonizowany wskaźnik cen konsumpcyjnych)\n",
    "- ca_pa_ra_ve - pojemność pasażerskich pojazdów kolejowych (tysiące miejsc)\n",
    "- le_hi_sp_ra - długość dedykowanych linii kolei dużych prędkości (kilometry)"
   ],
   "id": "e6a3a2f8b3fd5c3a"
  },
  {
   "metadata": {},
   "cell_type": "markdown",
   "source": "## 4. Analiza jakości danych",
   "id": "fd8a98ce706fa6fe"
  },
  {
   "metadata": {},
   "cell_type": "markdown",
   "source": "Przekonwertowanie na odpowiednie typy danych.",
   "id": "beef58fbbef3d689"
  },
  {
   "metadata": {
    "ExecuteTime": {
     "end_time": "2024-12-18T19:10:52.568760Z",
     "start_time": "2024-12-18T19:10:52.552352Z"
    }
   },
   "cell_type": "code",
   "source": [
    "tables[['n', 'Country']] = tables[['n', 'Country']].astype(str)\n",
    "tables['Year'] = pd.to_datetime(tables['Year'], format='%Y')\n",
    "\n",
    "columns_to_convert = tables.columns[3:]\n",
    "for col in columns_to_convert:\n",
    "    tables[col] = tables[col].astype(str).str.strip().str.replace(\",\", \".\", regex=False)\n",
    "    tables[col] = pd.to_numeric(tables[col], errors='coerce')\n",
    "\n",
    "print(tables.dtypes)"
   ],
   "id": "b8013ddd6e67aba7",
   "outputs": [
    {
     "name": "stdout",
     "output_type": "stream",
     "text": [
      "n                      object\n",
      "Year           datetime64[ns]\n",
      "Country                object\n",
      "pa_tr                 float64\n",
      "pa_tr_na              float64\n",
      "pa_tr_in              float64\n",
      "tr_tr                 float64\n",
      "le_ra_tr              float64\n",
      "pa_ra_ve              float64\n",
      "po                    float64\n",
      "gdp_pc                float64\n",
      "ex_in                 float64\n",
      "in_in                 float64\n",
      "le_mo                 float64\n",
      "co_pr_le              float64\n",
      "in_ra                 float64\n",
      "ca_pa_ra_ve           float64\n",
      "le_hi_sp_ra           float64\n",
      "dtype: object\n"
     ]
    }
   ],
   "execution_count": 41
  },
  {
   "metadata": {},
   "cell_type": "markdown",
   "source": "Sprawdzenie ile jest braków w danych",
   "id": "92d33ab381c789df"
  },
  {
   "metadata": {
    "ExecuteTime": {
     "end_time": "2024-12-18T19:10:55.522238Z",
     "start_time": "2024-12-18T19:10:55.518001Z"
    }
   },
   "cell_type": "code",
   "source": "print(\"Braki danych: \\n\", tables.isnull().sum())",
   "id": "1fcc6f1df3535b4a",
   "outputs": [
    {
     "name": "stdout",
     "output_type": "stream",
     "text": [
      "Braki danych: \n",
      " n                0\n",
      "Year             0\n",
      "Country          0\n",
      "pa_tr           52\n",
      "pa_tr_na        66\n",
      "pa_tr_in        69\n",
      "tr_tr           57\n",
      "le_ra_tr        69\n",
      "pa_ra_ve       136\n",
      "po               5\n",
      "gdp_pc          25\n",
      "ex_in          194\n",
      "in_in          187\n",
      "le_mo           52\n",
      "co_pr_le         0\n",
      "in_ra            6\n",
      "ca_pa_ra_ve    162\n",
      "le_hi_sp_ra     24\n",
      "dtype: int64\n"
     ]
    }
   ],
   "execution_count": 42
  },
  {
   "metadata": {},
   "cell_type": "markdown",
   "source": "Widzimy, że występuje wiele braków danych w tym zbiorze. Zanim, więc przejdziemy do dalszej analizy należy zdecydować co z nimi zrobić.",
   "id": "25d639214568413d"
  },
  {
   "metadata": {
    "ExecuteTime": {
     "end_time": "2024-12-18T19:10:58.394898Z",
     "start_time": "2024-12-18T19:10:58.386796Z"
    }
   },
   "cell_type": "code",
   "source": [
    "# Najpierw sprawdzimy, czy niektóre obserwacje nie mają za dużo braków, jeśli mają, wtedy usuniemy całe obserwacje\n",
    "missing_in_row= tables.isnull().mean(axis=1)\n",
    "\n",
    "# Filtr dla obserwacji z brakami powyżej określonego progu (np. 20%)\n",
    "threshold = 0.3\n",
    "rows_with_many_nans = tables[missing_in_row > threshold]\n",
    "\n",
    "# Wyświetlenie wyników\n",
    "print(\"Obserwacje z brakami danych powyżej 30%:\")\n",
    "for index, row in rows_with_many_nans.iterrows():\n",
    "    print(f\"Indeks: {index}, Rok: {row['Year']}, Kraj: {row['Country']}\")\n",
    "print(len(rows_with_many_nans))"
   ],
   "id": "e822686cf4e7a0a9",
   "outputs": [
    {
     "name": "stdout",
     "output_type": "stream",
     "text": [
      "Obserwacje z brakami danych powyżej 30%:\n",
      "Indeks: 0, Rok: 2014-01-01 00:00:00, Kraj: European Union - 27 countries (from 2020)\n",
      "Indeks: 1, Rok: 2014-01-01 00:00:00, Kraj: European Union - 28 countries (2013-2020)\n",
      "Indeks: 2, Rok: 2014-01-01 00:00:00, Kraj: European Union - 27 countries (2007-2013)\n",
      "Indeks: 3, Rok: 2014-01-01 00:00:00, Kraj: Belgium\n",
      "Indeks: 19, Rok: 2014-01-01 00:00:00, Kraj: Netherlands\n",
      "Indeks: 32, Rok: 2014-01-01 00:00:00, Kraj: Montenegro\n",
      "Indeks: 35, Rok: 2015-01-01 00:00:00, Kraj: European Union - 27 countries (from 2020)\n",
      "Indeks: 36, Rok: 2015-01-01 00:00:00, Kraj: European Union - 28 countries (2013-2020)\n",
      "Indeks: 37, Rok: 2015-01-01 00:00:00, Kraj: European Union - 27 countries (2007-2013)\n",
      "Indeks: 38, Rok: 2015-01-01 00:00:00, Kraj: Belgium\n",
      "Indeks: 53, Rok: 2015-01-01 00:00:00, Kraj: Hungary\n",
      "Indeks: 54, Rok: 2015-01-01 00:00:00, Kraj: Netherlands\n",
      "Indeks: 67, Rok: 2015-01-01 00:00:00, Kraj: Montenegro\n",
      "Indeks: 70, Rok: 2016-01-01 00:00:00, Kraj: European Union - 27 countries (from 2020)\n",
      "Indeks: 71, Rok: 2016-01-01 00:00:00, Kraj: European Union - 28 countries (2013-2020)\n",
      "Indeks: 72, Rok: 2016-01-01 00:00:00, Kraj: European Union - 27 countries (2007-2013)\n",
      "Indeks: 73, Rok: 2016-01-01 00:00:00, Kraj: Belgium\n",
      "Indeks: 88, Rok: 2016-01-01 00:00:00, Kraj: Hungary\n",
      "Indeks: 89, Rok: 2016-01-01 00:00:00, Kraj: Netherlands\n",
      "Indeks: 105, Rok: 2017-01-01 00:00:00, Kraj: European Union - 27 countries (from 2020)\n",
      "Indeks: 106, Rok: 2017-01-01 00:00:00, Kraj: European Union - 28 countries (2013-2020)\n",
      "Indeks: 107, Rok: 2017-01-01 00:00:00, Kraj: European Union - 27 countries (2007-2013)\n",
      "Indeks: 108, Rok: 2017-01-01 00:00:00, Kraj: Belgium\n",
      "Indeks: 123, Rok: 2017-01-01 00:00:00, Kraj: Hungary\n",
      "Indeks: 124, Rok: 2017-01-01 00:00:00, Kraj: Netherlands\n",
      "Indeks: 140, Rok: 2018-01-01 00:00:00, Kraj: European Union - 27 countries (from 2020)\n",
      "Indeks: 141, Rok: 2018-01-01 00:00:00, Kraj: European Union - 28 countries (2013-2020)\n",
      "Indeks: 142, Rok: 2018-01-01 00:00:00, Kraj: European Union - 27 countries (2007-2013)\n",
      "Indeks: 143, Rok: 2018-01-01 00:00:00, Kraj: Belgium\n",
      "Indeks: 158, Rok: 2018-01-01 00:00:00, Kraj: Hungary\n",
      "Indeks: 159, Rok: 2018-01-01 00:00:00, Kraj: Netherlands\n",
      "Indeks: 175, Rok: 2019-01-01 00:00:00, Kraj: European Union - 27 countries (from 2020)\n",
      "Indeks: 176, Rok: 2019-01-01 00:00:00, Kraj: European Union - 28 countries (2013-2020)\n",
      "Indeks: 177, Rok: 2019-01-01 00:00:00, Kraj: European Union - 27 countries (2007-2013)\n",
      "Indeks: 178, Rok: 2019-01-01 00:00:00, Kraj: Belgium\n",
      "Indeks: 193, Rok: 2019-01-01 00:00:00, Kraj: Hungary\n",
      "Indeks: 194, Rok: 2019-01-01 00:00:00, Kraj: Netherlands\n",
      "Indeks: 204, Rok: 2019-01-01 00:00:00, Kraj: Switzerland\n",
      "Indeks: 210, Rok: 2020-01-01 00:00:00, Kraj: European Union - 27 countries (from 2020)\n",
      "Indeks: 211, Rok: 2020-01-01 00:00:00, Kraj: European Union - 28 countries (2013-2020)\n",
      "Indeks: 212, Rok: 2020-01-01 00:00:00, Kraj: European Union - 27 countries (2007-2013)\n",
      "Indeks: 213, Rok: 2020-01-01 00:00:00, Kraj: Belgium\n",
      "Indeks: 228, Rok: 2020-01-01 00:00:00, Kraj: Hungary\n",
      "Indeks: 229, Rok: 2020-01-01 00:00:00, Kraj: Netherlands\n",
      "Indeks: 240, Rok: 2020-01-01 00:00:00, Kraj: United Kingdom\n",
      "Indeks: 241, Rok: 2020-01-01 00:00:00, Kraj: Bosnia and Herzegovina\n",
      "Indeks: 242, Rok: 2020-01-01 00:00:00, Kraj: Montenegro\n",
      "Indeks: 245, Rok: 2021-01-01 00:00:00, Kraj: European Union - 27 countries (from 2020)\n",
      "Indeks: 246, Rok: 2021-01-01 00:00:00, Kraj: European Union - 28 countries (2013-2020)\n",
      "Indeks: 247, Rok: 2021-01-01 00:00:00, Kraj: European Union - 27 countries (2007-2013)\n",
      "Indeks: 248, Rok: 2021-01-01 00:00:00, Kraj: Belgium\n",
      "Indeks: 263, Rok: 2021-01-01 00:00:00, Kraj: Hungary\n",
      "Indeks: 264, Rok: 2021-01-01 00:00:00, Kraj: Netherlands\n",
      "Indeks: 275, Rok: 2021-01-01 00:00:00, Kraj: United Kingdom\n",
      "Indeks: 276, Rok: 2021-01-01 00:00:00, Kraj: Bosnia and Herzegovina\n",
      "Indeks: 277, Rok: 2021-01-01 00:00:00, Kraj: Montenegro\n",
      "Indeks: 280, Rok: 2022-01-01 00:00:00, Kraj: European Union - 27 countries (from 2020)\n",
      "Indeks: 281, Rok: 2022-01-01 00:00:00, Kraj: European Union - 28 countries (2013-2020)\n",
      "Indeks: 282, Rok: 2022-01-01 00:00:00, Kraj: European Union - 27 countries (2007-2013)\n",
      "Indeks: 283, Rok: 2022-01-01 00:00:00, Kraj: Belgium\n",
      "Indeks: 298, Rok: 2022-01-01 00:00:00, Kraj: Hungary\n",
      "Indeks: 299, Rok: 2022-01-01 00:00:00, Kraj: Netherlands\n",
      "Indeks: 310, Rok: 2022-01-01 00:00:00, Kraj: United Kingdom\n",
      "Indeks: 311, Rok: 2022-01-01 00:00:00, Kraj: Bosnia and Herzegovina\n",
      "Indeks: 312, Rok: 2022-01-01 00:00:00, Kraj: Montenegro\n",
      "Indeks: 315, Rok: 2023-01-01 00:00:00, Kraj: European Union - 27 countries (from 2020)\n",
      "Indeks: 316, Rok: 2023-01-01 00:00:00, Kraj: European Union - 28 countries (2013-2020)\n",
      "Indeks: 317, Rok: 2023-01-01 00:00:00, Kraj: European Union - 27 countries (2007-2013)\n",
      "Indeks: 318, Rok: 2023-01-01 00:00:00, Kraj: Belgium\n",
      "Indeks: 333, Rok: 2023-01-01 00:00:00, Kraj: Hungary\n",
      "Indeks: 334, Rok: 2023-01-01 00:00:00, Kraj: Netherlands\n",
      "Indeks: 345, Rok: 2023-01-01 00:00:00, Kraj: United Kingdom\n",
      "Indeks: 346, Rok: 2023-01-01 00:00:00, Kraj: Bosnia and Herzegovina\n",
      "Indeks: 347, Rok: 2023-01-01 00:00:00, Kraj: Montenegro\n",
      "Indeks: 349, Rok: 2023-01-01 00:00:00, Kraj: Türkiye\n",
      "75\n"
     ]
    }
   ],
   "execution_count": 43
  },
  {
   "metadata": {},
   "cell_type": "markdown",
   "source": "Ze względu na to, że niektóre państwa dla każdego roku mają duże braki danych, możemy z naszej analizy wyrzucić Belgię, Węgry, Holandię i Czarnogórę oraz wszystkie wiersze przedstawiające dane dla ogólnie Unii Europejskiej.",
   "id": "11e04c4b1304552d"
  },
  {
   "metadata": {
    "ExecuteTime": {
     "end_time": "2024-12-18T19:11:08.127312Z",
     "start_time": "2024-12-18T19:11:08.122047Z"
    }
   },
   "cell_type": "code",
   "source": [
    "countries_to_remove = ['European Union - 27 countries (from 2020)', 'European Union - 28 countries (2013-2020)', 'European Union - 27 countries (2007-2013)', 'Belgium', 'Hungary', 'Netherlands', 'Montenegro']\n",
    "\n",
    "tables_cleaned = tables[~tables['Country'].isin(countries_to_remove)]\n",
    "print(\"Braki danych: \\n\", tables_cleaned.isnull().sum())"
   ],
   "id": "4e5572a6464d26d1",
   "outputs": [
    {
     "name": "stdout",
     "output_type": "stream",
     "text": [
      "Braki danych: \n",
      " n                0\n",
      "Year             0\n",
      "Country          0\n",
      "pa_tr           10\n",
      "pa_tr_na        14\n",
      "pa_tr_in        17\n",
      "tr_tr           16\n",
      "le_ra_tr        39\n",
      "pa_ra_ve        80\n",
      "po               5\n",
      "gdp_pc           5\n",
      "ex_in          126\n",
      "in_in          123\n",
      "le_mo           14\n",
      "co_pr_le         0\n",
      "in_ra            4\n",
      "ca_pa_ra_ve     96\n",
      "le_hi_sp_ra      2\n",
      "dtype: int64\n"
     ]
    }
   ],
   "execution_count": 44
  },
  {
   "metadata": {},
   "cell_type": "markdown",
   "source": "Pomimo usunięcia wielu obserwacji nadal dla niektórych cech są duże braki danych.",
   "id": "e8e72f81ed6ccb5c"
  },
  {
   "metadata": {
    "ExecuteTime": {
     "end_time": "2024-12-18T19:11:11.377238Z",
     "start_time": "2024-12-18T19:11:11.372090Z"
    }
   },
   "cell_type": "code",
   "source": [
    "missing_percentage = tables_cleaned.isnull().mean()\n",
    "threshold = 0.3\n",
    "columns_with_big_missing = missing_percentage[missing_percentage > threshold]\n",
    "print(columns_with_big_missing)"
   ],
   "id": "39e616ada9472fcf",
   "outputs": [
    {
     "name": "stdout",
     "output_type": "stream",
     "text": [
      "ex_in          0.450000\n",
      "in_in          0.439286\n",
      "ca_pa_ra_ve    0.342857\n",
      "dtype: float64\n"
     ]
    }
   ],
   "execution_count": 45
  },
  {
   "metadata": {},
   "cell_type": "markdown",
   "source": "Niestety cechy, dla których wyszły największe braki mogą być bardzo istotne przy określeniu zależności liczby pasażerów, ponieważ są to wydatki na infrastrukturę, inwestycje oraz pojemność pociągów. W związku z tym nie będziemy usuwać tych cech, ale spróbujemy uzupełnić częściowo te braki.",
   "id": "958f053c735db18f"
  },
  {
   "metadata": {
    "ExecuteTime": {
     "end_time": "2024-12-18T19:06:22.768119Z",
     "start_time": "2024-12-18T19:06:21.456081Z"
    }
   },
   "cell_type": "code",
   "source": [
    "# # Imputacja medianą\n",
    "# print(\"Przed: \\n\", tables_cleaned[['ex_in', 'in_in']].describe())\n",
    "# from sklearn.impute import SimpleImputer\n",
    "#\n",
    "# # Tworzymy imputera, który uzupełnia brakujące dane medianą\n",
    "# imputer = SimpleImputer(strategy='median')\n",
    "#\n",
    "# # Imputacja danych\n",
    "# tables_cleaned[['ex_in', 'in_in']] = imputer.fit_transform(tables_cleaned[['ex_in', 'in_in']])\n",
    "# print(\"Po: \\n\", tables_cleaned[['ex_in', 'in_in']].describe())\n",
    "\n",
    "# Inna opcja imputacja regresją\n",
    "# from sklearn.linear_model import LinearRegression\n",
    "#\n",
    "# # Zbiór danych bez brakujących wartości\n",
    "# train_data = tables_cleaned.dropna(subset=['ex_in'])  # Zbiór treningowy (bez braków w 'ex_in')\n",
    "# X_train = train_data[['gdp_pc', 'po']]  # Cecha do treningu\n",
    "# y_train = train_data['ex_in']  # Wartość do przewidywania\n",
    "#\n",
    "# # Tworzymy i trenujemy model regresji\n",
    "# model = LinearRegression()\n",
    "# model.fit(X_train, y_train)\n",
    "#\n",
    "# # Przewidywanie brakujących wartości\n",
    "# missing_data = tables_cleaned[tables_cleaned['ex_in'].isnull()]\n",
    "# X_missing = missing_data[['gdp_pc', 'po']]\n",
    "# tables_cleaned.loc[tables_cleaned['ex_in'].isnull(), 'ex_in'] = model.predict(X_missing)\n"
   ],
   "id": "3274270ef1963497",
   "outputs": [
    {
     "name": "stdout",
     "output_type": "stream",
     "text": [
      "Przed: \n",
      "               ex_in          in_in\n",
      "count    154.000000     157.000000\n",
      "mean    1706.732974    4482.591369\n",
      "std     2553.113609   37704.910662\n",
      "min       14.316000       5.000000\n",
      "25%      238.200000     180.000000\n",
      "50%      553.963500     519.000000\n",
      "75%     2232.461000    1797.176000\n",
      "max    12969.801000  473252.000000\n",
      "Po: \n",
      "               ex_in          in_in\n",
      "count    280.000000     280.000000\n",
      "mean    1187.986711    2741.442304\n",
      "std     1976.025427   28262.878491\n",
      "min       14.316000       5.000000\n",
      "25%      485.405000     373.460000\n",
      "50%      553.963500     519.000000\n",
      "75%      746.391250     945.907500\n",
      "max    12969.801000  473252.000000\n"
     ]
    },
    {
     "name": "stderr",
     "output_type": "stream",
     "text": [
      "/var/folders/vl/gs1w498x01bftxkwdxs2z5s80000gn/T/ipykernel_55162/3153850735.py:9: SettingWithCopyWarning: \n",
      "A value is trying to be set on a copy of a slice from a DataFrame.\n",
      "Try using .loc[row_indexer,col_indexer] = value instead\n",
      "\n",
      "See the caveats in the documentation: https://pandas.pydata.org/pandas-docs/stable/user_guide/indexing.html#returning-a-view-versus-a-copy\n",
      "  tables_cleaned[['ex_in', 'in_in']] = imputer.fit_transform(tables_cleaned[['ex_in', 'in_in']])\n"
     ]
    }
   ],
   "execution_count": 38
  },
  {
   "metadata": {},
   "cell_type": "markdown",
   "source": "Sprawdzenie czy są jakieś duplikaty",
   "id": "3b704fae90c624a"
  },
  {
   "metadata": {
    "ExecuteTime": {
     "end_time": "2024-12-18T19:11:18.270362Z",
     "start_time": "2024-12-18T19:11:18.265003Z"
    }
   },
   "cell_type": "code",
   "source": "print(\"Duplikaty: \\n\", tables_cleaned.duplicated().sum())",
   "id": "447f472cb08c351f",
   "outputs": [
    {
     "name": "stdout",
     "output_type": "stream",
     "text": [
      "Duplikaty: \n",
      " 0\n"
     ]
    }
   ],
   "execution_count": 46
  },
  {
   "metadata": {},
   "cell_type": "markdown",
   "source": "## 5. Statystyki opisowe",
   "id": "ba4085caf563c21e"
  },
  {
   "metadata": {},
   "cell_type": "markdown",
   "source": "Podstawowe statystyki dla cech liczbowych (średnia, mediana, odchylenie standardowe, min, max, kwartyle):",
   "id": "44e22f86babc4dfa"
  },
  {
   "metadata": {
    "ExecuteTime": {
     "end_time": "2024-12-18T19:11:25.054700Z",
     "start_time": "2024-12-18T19:11:25.034668Z"
    }
   },
   "cell_type": "code",
   "source": "print(tables_cleaned.describe())",
   "id": "c94b9e1c626548e1",
   "outputs": [
    {
     "name": "stdout",
     "output_type": "stream",
     "text": [
      "                      Year          pa_tr      pa_tr_na      pa_tr_in  \\\n",
      "count                  280     270.000000    266.000000    263.000000   \n",
      "mean   2018-07-02 12:00:00   14241.988889  14104.259398    717.387833   \n",
      "min    2014-01-01 00:00:00      14.000000     25.000000      0.000000   \n",
      "25%    2016-01-01 00:00:00     631.000000    716.250000     21.000000   \n",
      "50%    2018-07-02 12:00:00    3711.500000   3759.500000    100.000000   \n",
      "75%    2021-01-01 00:00:00   12841.250000  12714.000000    490.500000   \n",
      "max    2023-01-01 00:00:00  101408.000000  95453.000000  10810.000000   \n",
      "std                    NaN   25219.483151  23770.814215   1721.010122   \n",
      "\n",
      "               tr_tr      le_ra_tr      pa_ra_ve            po        gdp_pc  \\\n",
      "count     264.000000    241.000000    200.000000  2.750000e+02    275.000000   \n",
      "mean   110089.753788  14299.256822   2870.305000  2.005383e+07  29178.654545   \n",
      "min       597.000000      9.000000     65.000000  5.496800e+05   4030.000000   \n",
      "25%      9543.000000   2217.000000    304.000000  3.856600e+06  13625.000000   \n",
      "50%     33665.500000   6456.000000    996.500000  7.117453e+06  21790.000000   \n",
      "75%    129047.500000  20241.000000   2972.000000  1.981562e+07  37950.000000   \n",
      "max    873203.000000  71246.000000  26506.000000  8.527955e+07  86540.000000   \n",
      "std    180922.333355  17379.379163   5428.805155  2.585997e+07  20392.804657   \n",
      "\n",
      "              ex_in          in_in         le_mo    co_pr_le       in_ra  \\\n",
      "count    154.000000     157.000000    266.000000  280.000000  276.000000   \n",
      "mean    1706.732974    4482.591369   2697.017966   95.569286    3.338768   \n",
      "min       14.316000       5.000000      0.000000   41.600000   -1.600000   \n",
      "25%      238.200000     180.000000    482.300000   68.450000    0.400000   \n",
      "50%      553.963500     519.000000   1227.330500   88.850000    1.600000   \n",
      "75%     2232.461000    1797.176000   2259.750000  124.925000    3.425000   \n",
      "max    12969.801000  473252.000000  15856.000000  174.600000   72.300000   \n",
      "std     2553.113609   37704.910662   4030.019705   32.523539    6.524403   \n",
      "\n",
      "       ca_pa_ra_ve  le_hi_sp_ra  \n",
      "count   184.000000   278.000000  \n",
      "mean    120.116310   290.788140  \n",
      "min       3.700000     0.000000  \n",
      "25%      24.750000     0.000000  \n",
      "50%      61.200000     0.000000  \n",
      "75%     220.000000     0.000000  \n",
      "max     475.000000  3189.919000  \n",
      "std     120.237725   703.260785  \n"
     ]
    }
   ],
   "execution_count": 47
  },
  {
   "metadata": {},
   "cell_type": "markdown",
   "source": "Analiza cech kategorycznych (u nas tylko kraje):",
   "id": "27f5dbadc0186cf0"
  },
  {
   "metadata": {
    "ExecuteTime": {
     "end_time": "2024-12-18T19:11:30.920442Z",
     "start_time": "2024-12-18T19:11:30.916258Z"
    }
   },
   "cell_type": "code",
   "source": "print(tables_cleaned[\"Country\"].value_counts())",
   "id": "80855d07eefbc6eb",
   "outputs": [
    {
     "name": "stdout",
     "output_type": "stream",
     "text": [
      "Country\n",
      "Bulgaria                  10\n",
      "Czechia                   10\n",
      "North Macedonia           10\n",
      "Bosnia and Herzegovina    10\n",
      "United Kingdom            10\n",
      "Switzerland               10\n",
      "Norway                    10\n",
      "Sweden                    10\n",
      "Finland                   10\n",
      "Slovakia                  10\n",
      "Slovenia                  10\n",
      "Romania                   10\n",
      "Portugal                  10\n",
      "Poland                    10\n",
      "Austria                   10\n",
      "Luxembourg                10\n",
      "Lithuania                 10\n",
      "Latvia                    10\n",
      "Italy                     10\n",
      "Croatia                   10\n",
      "France                    10\n",
      "Spain                     10\n",
      "Greece                    10\n",
      "Ireland                   10\n",
      "Estonia                   10\n",
      "Germany                   10\n",
      "Denmark                   10\n",
      "Türkiye                   10\n",
      "Name: count, dtype: int64\n"
     ]
    }
   ],
   "execution_count": 48
  },
  {
   "metadata": {},
   "cell_type": "markdown",
   "source": "## 6. Wizualizacja danych",
   "id": "b9b064ccee1b8e3c"
  },
  {
   "metadata": {},
   "cell_type": "markdown",
   "source": "Rozkłady zmiennych, histogramy, wykresy rozrzutu, macierz korelacji, wykresy pudełkowe",
   "id": "fa247a0de92b15ec"
  },
  {
   "metadata": {},
   "cell_type": "markdown",
   "source": "## 7. Analiza zależności, korelacji i hipotez",
   "id": "6c06496fbea4cdad"
  },
  {
   "metadata": {},
   "cell_type": "markdown",
   "source": "Analiza korelacji, wartości odstające, hipotezy",
   "id": "a732e5feaf0379de"
  }
 ],
 "metadata": {
  "kernelspec": {
   "display_name": "Python 3",
   "language": "python",
   "name": "python3"
  },
  "language_info": {
   "codemirror_mode": {
    "name": "ipython",
    "version": 2
   },
   "file_extension": ".py",
   "mimetype": "text/x-python",
   "name": "python",
   "nbconvert_exporter": "python",
   "pygments_lexer": "ipython2",
   "version": "2.7.6"
  }
 },
 "nbformat": 4,
 "nbformat_minor": 5
}

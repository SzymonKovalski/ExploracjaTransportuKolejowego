{
 "cells": [
  {
   "metadata": {},
   "cell_type": "markdown",
   "source": [
    "# Opracowanie modelu regresji do przewidzenia liczby pasażerów transportu kolejowego\n",
    "#### Autorzy: Szymon Kowalski, Zuzanna Czyżowska - zespół 18\n",
    "## 1. Wprowadzenie"
   ],
   "id": "c48ff8cf35521b03"
  },
  {
   "metadata": {},
   "cell_type": "markdown",
   "source": "W poprzedniej części projektu, przeprowadziliśmy analizę naszego zbioru i na jej podstawie dokonaliśmy doboru cech do naszego modelu. Cechy zapisaliśmy do nowego pliku .csv, aby łatwo przejść do opracowania modelu regresji.",
   "id": "e730aa7f61345ce6"
  },
  {
   "metadata": {},
   "cell_type": "markdown",
   "source": "## 2. Importy i załadowanie danych",
   "id": "8991261faae9903a"
  },
  {
   "metadata": {
    "ExecuteTime": {
     "end_time": "2025-01-06T15:19:04.855074Z",
     "start_time": "2025-01-06T15:19:04.853113Z"
    }
   },
   "cell_type": "code",
   "source": [
    "import pandas as pd\n",
    "import numpy as np\n",
    "import matplotlib.pyplot as plt\n",
    "import seaborn as sns"
   ],
   "id": "3792ab957c5bd855",
   "outputs": [],
   "execution_count": 1
  },
  {
   "metadata": {
    "ExecuteTime": {
     "end_time": "2025-01-06T15:19:06.395115Z",
     "start_time": "2025-01-06T15:19:06.375158Z"
    }
   },
   "cell_type": "code",
   "source": [
    "tables = pd.read_csv('all_data_after_analyze.csv')\n",
    "\n",
    "print(\"Dane:\")\n",
    "print(tables.head())\n",
    "print(\"Rozmiar danych:\")\n",
    "print(tables.shape)"
   ],
   "id": "76f7efa05950408a",
   "outputs": [
    {
     "name": "stdout",
     "output_type": "stream",
     "text": [
      "Dane:\n",
      "    n        year  country     pa_tr  pa_tr_na  pa_tr_in     tr_tr  \\\n",
      "0  18  2013-01-01  Austria  235434.0  225063.0   10371.0  134386.0   \n",
      "1  11  2013-01-01  Croatia   24216.0   23810.0     406.0   16651.0   \n",
      "2   3  2013-01-01  Czechia  174189.0  170790.0    3399.0  127109.0   \n",
      "3   4  2013-01-01  Denmark  193500.0  181151.0   12349.0   67045.0   \n",
      "4   6  2013-01-01  Estonia    4199.0    4077.0     122.0    3337.0   \n",
      "\n",
      "       le_ra_tr  le_li_hi  le_li_up_hi  ...  n_lo_di  n_ra_di  n_lo_el  ca_ve  \\\n",
      "0   9708.000000       0.0        237.0  ...    464.0    226.0    888.0  269.0   \n",
      "1   4090.000000       0.0          0.0  ...    159.0    106.0    107.0   33.0   \n",
      "2  15607.000000       0.0          0.0  ...   1126.0    737.0    770.0  288.0   \n",
      "3   3613.330147       0.0          0.0  ...     89.0   1088.0     36.0  141.0   \n",
      "4   2146.000000       0.0          0.0  ...    293.0     46.0      0.0   24.1   \n",
      "\n",
      "     ex_in    in_in          po  co_pr_le   le_mo    n_pa_air  \n",
      "0  319.000  211.000   8451860.0     108.5  1719.0  25749724.0  \n",
      "1  285.277  183.147   4247803.0      70.0  1289.0   5722447.0  \n",
      "2  712.433  377.675  10516125.0      70.1   776.0  11891812.0  \n",
      "3  564.636  381.475   5602628.0     142.2  1216.0  27459623.0  \n",
      "4    0.000    0.000   1320174.0      76.8   140.0   1958565.0  \n",
      "\n",
      "[5 rows x 21 columns]\n",
      "Rozmiar danych:\n",
      "(286, 21)\n"
     ]
    }
   ],
   "execution_count": 2
  },
  {
   "metadata": {},
   "cell_type": "markdown",
   "source": [
    "## 3. Modelowanie regresji\n",
    "### 1. Przygotowanie zbioru treningowego i testowego"
   ],
   "id": "89c03120eae20351"
  },
  {
   "metadata": {},
   "cell_type": "code",
   "outputs": [],
   "execution_count": null,
   "source": "",
   "id": "4bfb865dc992d1a4"
  },
  {
   "metadata": {},
   "cell_type": "markdown",
   "source": "### 2. Ustawienie parametrów modelu",
   "id": "14b479f8cd69ab99"
  },
  {
   "metadata": {},
   "cell_type": "code",
   "outputs": [],
   "execution_count": null,
   "source": "",
   "id": "9297f1a458d58377"
  },
  {
   "metadata": {},
   "cell_type": "markdown",
   "source": "### 3. Trenowanie modelu",
   "id": "abd61dc97f93adc2"
  },
  {
   "metadata": {},
   "cell_type": "code",
   "outputs": [],
   "execution_count": null,
   "source": "",
   "id": "957f36219a1619f3"
  },
  {
   "metadata": {},
   "cell_type": "markdown",
   "source": "### 4. Wizualizacja wyników i ocena modelu",
   "id": "8fbed5cdc1cbe047"
  },
  {
   "metadata": {},
   "cell_type": "code",
   "outputs": [],
   "execution_count": null,
   "source": "",
   "id": "5047e359f4b64fe3"
  },
  {
   "metadata": {},
   "cell_type": "markdown",
   "source": "## 4. Regularyzacja modelu",
   "id": "57d2d0787ed64ccd"
  },
  {
   "metadata": {},
   "cell_type": "markdown",
   "source": "### 1. Implementacja",
   "id": "cd02472275dac945"
  },
  {
   "metadata": {},
   "cell_type": "code",
   "outputs": [],
   "execution_count": null,
   "source": "",
   "id": "de7910b165a676f1"
  },
  {
   "metadata": {},
   "cell_type": "markdown",
   "source": "### 2. Wizualizacja i ocena wyników oraz porównanie przed i po regularyzacji",
   "id": "798379f541547478"
  },
  {
   "metadata": {},
   "cell_type": "code",
   "outputs": [],
   "execution_count": null,
   "source": "",
   "id": "bf3ba8ae7b5971dc"
  },
  {
   "metadata": {},
   "cell_type": "markdown",
   "source": "## 5. Wnioski",
   "id": "e4a71317b927642f"
  },
  {
   "metadata": {},
   "cell_type": "markdown",
   "source": "",
   "id": "5792c23aa476b992"
  }
 ],
 "metadata": {
  "kernelspec": {
   "display_name": "Python 3",
   "language": "python",
   "name": "python3"
  },
  "language_info": {
   "codemirror_mode": {
    "name": "ipython",
    "version": 2
   },
   "file_extension": ".py",
   "mimetype": "text/x-python",
   "name": "python",
   "nbconvert_exporter": "python",
   "pygments_lexer": "ipython2",
   "version": "2.7.6"
  }
 },
 "nbformat": 4,
 "nbformat_minor": 5
}

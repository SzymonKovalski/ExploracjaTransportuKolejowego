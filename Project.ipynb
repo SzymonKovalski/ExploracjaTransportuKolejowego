{
 "cells": [
  {
   "cell_type": "code",
   "execution_count": 11,
   "id": "c1e2f396-d2c3-4dba-b0f6-34b35d7fb096",
   "metadata": {},
   "outputs": [
    {
     "name": "stdout",
     "output_type": "stream",
     "text": [
      "Requirement already satisfied: openpyxl in c:\\users\\koval\\appdata\\local\\programs\\python\\python311\\lib\\site-packages (3.1.5)\n",
      "Requirement already satisfied: et-xmlfile in c:\\users\\koval\\appdata\\local\\programs\\python\\python311\\lib\\site-packages (from openpyxl) (2.0.0)\n"
     ]
    },
    {
     "name": "stderr",
     "output_type": "stream",
     "text": [
      "WARNING: Ignoring invalid distribution ~atplotlib (C:\\Users\\koval\\AppData\\Local\\Programs\\Python\\Python311\\Lib\\site-packages)\n",
      "WARNING: Ignoring invalid distribution ~atplotlib (C:\\Users\\koval\\AppData\\Local\\Programs\\Python\\Python311\\Lib\\site-packages)\n",
      "WARNING: Ignoring invalid distribution ~atplotlib (C:\\Users\\koval\\AppData\\Local\\Programs\\Python\\Python311\\Lib\\site-packages)\n"
     ]
    }
   ],
   "source": [
    "import pandas as pd\n",
    "import sys\n",
    "!{sys.executable} -m pip install openpyxl "
   ]
  },
  {
   "cell_type": "code",
   "execution_count": 15,
   "id": "f0872d17-e5ca-4ce7-95e0-fcfbe71f89d2",
   "metadata": {},
   "outputs": [
    {
     "name": "stdout",
     "output_type": "stream",
     "text": [
      "Sheet names: ['Summary', 'Structure', 'Sheet 1']\n",
      "<class 'pandas.core.frame.DataFrame'>\n",
      "RangeIndex: 19 entries, 0 to 18\n",
      "Data columns (total 6 columns):\n",
      " #   Column      Non-Null Count  Dtype \n",
      "---  ------      --------------  ----- \n",
      " 0   Unnamed: 0  5 non-null      object\n",
      " 1   Unnamed: 1  6 non-null      object\n",
      " 2   Unnamed: 2  5 non-null      object\n",
      " 3   Unnamed: 3  5 non-null      object\n",
      " 4   Unnamed: 4  1 non-null      object\n",
      " 5   Unnamed: 5  1 non-null      object\n",
      "dtypes: object(6)\n",
      "memory usage: 1.0+ KB\n",
      "None\n",
      "Data from sheet 'Summary':\n",
      "                                          Unnamed: 0 Unnamed: 1 Unnamed: 2  \\\n",
      "0                                                NaN        NaN        NaN   \n",
      "1                                                NaN        NaN        NaN   \n",
      "2                                                NaN        NaN        NaN   \n",
      "3                                                NaN        NaN        NaN   \n",
      "4  Passengers transported [rail_pa_total$defaultv...        NaN        NaN   \n",
      "\n",
      "  Unnamed: 3 Unnamed: 4 Unnamed: 5  \n",
      "0        NaN        NaN        NaN  \n",
      "1        NaN        NaN        NaN  \n",
      "2        NaN        NaN        NaN  \n",
      "3        NaN        NaN        NaN  \n",
      "4        NaN        NaN        NaN  \n"
     ]
    },
    {
     "name": "stderr",
     "output_type": "stream",
     "text": [
      "C:\\Users\\koval\\AppData\\Local\\Programs\\Python\\Python311\\Lib\\site-packages\\openpyxl\\styles\\stylesheet.py:237: UserWarning: Workbook contains no default style, apply openpyxl's default\n",
      "  warn(\"Workbook contains no default style, apply openpyxl's default\")\n"
     ]
    }
   ],
   "source": [
    "import pandas as pd\n",
    "\n",
    "# Read the sheet and clean it\n",
    "tables = pd.read_excel('rail_pa_total.xlsx', sheet_name='Summary', skiprows=5)\n",
    "\n",
    "# Drop empty columns\n",
    "tables = tables.dropna(axis=1, how='all')\n",
    "\n",
    "# Drop rows where all values are NaN\n",
    "tables = tables.dropna(axis=0, how='all')\n",
    "\n",
    "# Display cleaned data\n",
    "print(\"Cleaned Data:\")\n",
    "print(tables.head())\n"
   ]
  },
  {
   "cell_type": "code",
   "execution_count": null,
   "id": "fc08e24f-09b6-487a-b0d0-ba41eedb79df",
   "metadata": {},
   "outputs": [],
   "source": []
  }
 ],
 "metadata": {
  "kernelspec": {
   "display_name": "Python 3 (ipykernel)",
   "language": "python",
   "name": "python3"
  },
  "language_info": {
   "codemirror_mode": {
    "name": "ipython",
    "version": 3
   },
   "file_extension": ".py",
   "mimetype": "text/x-python",
   "name": "python",
   "nbconvert_exporter": "python",
   "pygments_lexer": "ipython3",
   "version": "3.11.6"
  }
 },
 "nbformat": 4,
 "nbformat_minor": 5
}
